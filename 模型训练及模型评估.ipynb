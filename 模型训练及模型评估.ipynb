{
 "cells": [
  {
   "cell_type": "code",
   "execution_count": 5,
   "metadata": {},
   "outputs": [],
   "source": [
    "import cv2 \n",
    "import os\n",
    "import numpy as np\n",
    "from scipy import ndimage\n",
    "from sklearn.model_selection import train_test_split\n",
    "import tensorflow.keras as keras\n",
    "from tensorflow.keras.preprocessing.image import ImageDataGenerator\n",
    "from tensorflow.keras.models import Sequential\n",
    "from tensorflow.keras.layers import Dense, Dropout, Activation, Flatten\n",
    "from tensorflow.keras.layers import Conv2D, MaxPooling2D\n",
    "\n",
    "#os.environ['CUDA_VISIBLE_DEVICES'] = '1,2'\n",
    "\n",
    "# 获取图片信息 返回图片地址以及图片标签\n",
    "def All_PicInfo(paths):\n",
    "    images = []\n",
    "    labels = []\n",
    "    path_dir = os.listdir(paths)\n",
    "    \n",
    "    for p in path_dir:\n",
    "        img1=os.listdir(paths+'/'+p) ##img为对应路径下的文件夹\n",
    "        for i in img1:\n",
    "            img_path=paths+'/'+p+'/'+i\n",
    "            #img_path=path+'/'+p ##是的话获取图片路径\n",
    "            img = cv2.imread(img_path)\n",
    "            images.append(img)\n",
    "            labels.append(int(p))\n",
    "    return np.asarray(images,dtype=np.float32),np.array(labels,dtype=np.int8)\n",
    "\n",
    "\n",
    "\n",
    "paths = r\"C:/Users/Administrator/Desktop/cut_mango\"\n",
    "    \n",
    "images,labels = All_PicInfo(paths)\n",
    "\n",
    "# 拆分训练集和测试集\n",
    "x_train, x_test, y_train, y_test = train_test_split(images,labels,test_size = 0.2)\n",
    "\n",
    "#将原始数据转换为[0, 1]区间  数据归一化\n",
    "x_train = x_train.astype('float32') / 255\n",
    "x_test =x_test.astype('float32') / 255\n",
    "#类别向量转为多分类矩阵\n",
    "y_train = keras.utils.to_categorical(y_train, 3)\n",
    "y_test = keras.utils.to_categorical(y_test, 3)\n"
   ]
  },
  {
   "cell_type": "code",
   "execution_count": 6,
   "metadata": {},
   "outputs": [
    {
     "data": {
      "text/plain": [
       "(1690, 128, 128, 3)"
      ]
     },
     "execution_count": 6,
     "metadata": {},
     "output_type": "execute_result"
    }
   ],
   "source": [
    "x_train.shape"
   ]
  },
  {
   "cell_type": "code",
   "execution_count": 3,
   "metadata": {},
   "outputs": [
    {
     "name": "stdout",
     "output_type": "stream",
     "text": [
      "Model: \"sequential\"\n",
      "_________________________________________________________________\n",
      "Layer (type)                 Output Shape              Param #   \n",
      "=================================================================\n",
      "conv2d (Conv2D)              (None, 128, 128, 64)      1792      \n",
      "_________________________________________________________________\n",
      "conv2d_1 (Conv2D)            (None, 126, 126, 64)      36928     \n",
      "_________________________________________________________________\n",
      "max_pooling2d (MaxPooling2D) (None, 63, 63, 64)        0         \n",
      "_________________________________________________________________\n",
      "dropout (Dropout)            (None, 63, 63, 64)        0         \n",
      "_________________________________________________________________\n",
      "conv2d_2 (Conv2D)            (None, 63, 63, 128)       73856     \n",
      "_________________________________________________________________\n",
      "conv2d_3 (Conv2D)            (None, 61, 61, 128)       147584    \n",
      "_________________________________________________________________\n",
      "max_pooling2d_1 (MaxPooling2 (None, 31, 31, 128)       0         \n",
      "_________________________________________________________________\n",
      "dropout_1 (Dropout)          (None, 31, 31, 128)       0         \n",
      "_________________________________________________________________\n",
      "flatten (Flatten)            (None, 123008)            0         \n",
      "_________________________________________________________________\n",
      "dense (Dense)                (None, 128)               15745152  \n",
      "_________________________________________________________________\n",
      "dropout_2 (Dropout)          (None, 128)               0         \n",
      "_________________________________________________________________\n",
      "dense_1 (Dense)              (None, 3)                 387       \n",
      "=================================================================\n",
      "Total params: 16,005,699\n",
      "Trainable params: 16,005,699\n",
      "Non-trainable params: 0\n",
      "_________________________________________________________________\n"
     ]
    }
   ],
   "source": [
    "## 搭建神经网络\n",
    "model = Sequential()\n",
    "\n",
    "model.add(Conv2D(64, kernel_size=3, strides = 1, padding='SAME',            # 128*128*64\n",
    "                 data_format = 'channels_last', activation = 'relu', input_shape = (128,128,3)))       \n",
    "model.add(Conv2D(64,kernel_size=3, activation = 'relu'))                    # 126*126*64\n",
    "model.add(MaxPooling2D(pool_size = 2, strides = 2, padding='SAME'))         # 64*64*64\n",
    "model.add(Dropout(0.25))\n",
    "\n",
    "model.add(Conv2D(128, kernel_size=3, strides = 1, padding='SAME',            # 64*64*128\n",
    "                 data_format = 'channels_last', activation = 'relu'))       \n",
    "model.add(Conv2D(128,kernel_size=3, activation = 'relu'))\n",
    "model.add(MaxPooling2D(pool_size = 2, strides = 2, padding='SAME'))         # 32*32*128\n",
    "model.add(Dropout(0.25))\n",
    "\n",
    "model.add(Flatten())\n",
    "model.add(Dense(128, activation = 'relu'))\n",
    "model.add(Dropout(0.5))\n",
    "model.add(Dense(3, activation = 'softmax'))\n",
    "model.summary()"
   ]
  },
  {
   "cell_type": "code",
   "execution_count": 3,
   "metadata": {},
   "outputs": [
    {
     "name": "stdout",
     "output_type": "stream",
     "text": [
      "Train on 1690 samples, validate on 423 samples\n",
      "Epoch 1/50\n",
      "1664/1690 [============================>.] - ETA: 7s - loss: 1.6684 - accuracy: 0.3894 \n",
      "Epoch 00001: val_loss improved from inf to 0.84372, saving model to C:/Users/Administrator/Desktop/mango1_CNNbest.hdf5\n",
      "1690/1690 [==============================] - 489s 289ms/sample - loss: 1.6573 - accuracy: 0.3923 - val_loss: 0.8437 - val_accuracy: 0.8865\n",
      "Epoch 2/50\n",
      "1664/1690 [============================>.] - ETA: 6s - loss: 0.5170 - accuracy: 0.8017 \n",
      "Epoch 00002: val_loss improved from 0.84372 to 0.15640, saving model to C:/Users/Administrator/Desktop/mango1_CNNbest.hdf5\n",
      "1690/1690 [==============================] - 464s 274ms/sample - loss: 0.5126 - accuracy: 0.8036 - val_loss: 0.1564 - val_accuracy: 0.9527\n",
      "Epoch 3/50\n",
      "1664/1690 [============================>.] - ETA: 6s - loss: 0.2182 - accuracy: 0.9207 \n",
      "Epoch 00003: val_loss did not improve from 0.15640\n",
      "1690/1690 [==============================] - 435s 257ms/sample - loss: 0.2180 - accuracy: 0.9213 - val_loss: 0.2194 - val_accuracy: 0.9385\n",
      "Epoch 4/50\n",
      "1664/1690 [============================>.] - ETA: 6s - loss: 0.1276 - accuracy: 0.9537 \n",
      "Epoch 00004: val_loss improved from 0.15640 to 0.05205, saving model to C:/Users/Administrator/Desktop/mango1_CNNbest.hdf5\n",
      "1690/1690 [==============================] - 465s 275ms/sample - loss: 0.1278 - accuracy: 0.9527 - val_loss: 0.0520 - val_accuracy: 0.9811\n",
      "Epoch 5/50\n",
      "1664/1690 [============================>.] - ETA: 6s - loss: 0.0800 - accuracy: 0.9675 \n",
      "Epoch 00005: val_loss improved from 0.05205 to 0.03578, saving model to C:/Users/Administrator/Desktop/mango1_CNNbest.hdf5\n",
      "1690/1690 [==============================] - 448s 265ms/sample - loss: 0.0796 - accuracy: 0.9675 - val_loss: 0.0358 - val_accuracy: 0.9905\n",
      "Epoch 6/50\n",
      "1664/1690 [============================>.] - ETA: 6s - loss: 0.0674 - accuracy: 0.9778 \n",
      "Epoch 00006: val_loss improved from 0.03578 to 0.03490, saving model to C:/Users/Administrator/Desktop/mango1_CNNbest.hdf5\n",
      "1690/1690 [==============================] - 465s 275ms/sample - loss: 0.0707 - accuracy: 0.9775 - val_loss: 0.0349 - val_accuracy: 0.9882\n",
      "Epoch 7/50\n",
      "1664/1690 [============================>.] - ETA: 6s - loss: 0.0817 - accuracy: 0.9675 \n",
      "Epoch 00007: val_loss improved from 0.03490 to 0.02243, saving model to C:/Users/Administrator/Desktop/mango1_CNNbest.hdf5\n",
      "1690/1690 [==============================] - 465s 275ms/sample - loss: 0.0812 - accuracy: 0.9680 - val_loss: 0.0224 - val_accuracy: 0.9953\n",
      "Epoch 8/50\n",
      "1664/1690 [============================>.] - ETA: 6s - loss: 0.0493 - accuracy: 0.9838 \n",
      "Epoch 00008: val_loss did not improve from 0.02243\n",
      "1690/1690 [==============================] - 456s 270ms/sample - loss: 0.0485 - accuracy: 0.9840 - val_loss: 0.0511 - val_accuracy: 0.9882\n",
      "Epoch 9/50\n",
      "1664/1690 [============================>.] - ETA: 7s - loss: 0.0389 - accuracy: 0.9886 \n",
      "Epoch 00009: val_loss did not improve from 0.02243\n",
      "1690/1690 [==============================] - 492s 291ms/sample - loss: 0.0384 - accuracy: 0.9888 - val_loss: 0.0290 - val_accuracy: 0.9929\n",
      "Epoch 10/50\n",
      "1664/1690 [============================>.] - ETA: 7s - loss: 0.0151 - accuracy: 0.9952 \n",
      "Epoch 00010: val_loss did not improve from 0.02243\n",
      "1690/1690 [==============================] - 485s 287ms/sample - loss: 0.0149 - accuracy: 0.9953 - val_loss: 0.0315 - val_accuracy: 0.9953\n",
      "Epoch 11/50\n",
      "1664/1690 [============================>.] - ETA: 6s - loss: 0.0191 - accuracy: 0.9934 \n",
      "Epoch 00011: val_loss did not improve from 0.02243\n",
      "1690/1690 [==============================] - 461s 273ms/sample - loss: 0.0188 - accuracy: 0.9935 - val_loss: 0.0396 - val_accuracy: 0.9953\n",
      "Epoch 12/50\n",
      "1664/1690 [============================>.] - ETA: 6s - loss: 0.0134 - accuracy: 0.9934 \n",
      "Epoch 00012: val_loss improved from 0.02243 to 0.01849, saving model to C:/Users/Administrator/Desktop/mango1_CNNbest.hdf5\n",
      "1690/1690 [==============================] - 467s 276ms/sample - loss: 0.0140 - accuracy: 0.9929 - val_loss: 0.0185 - val_accuracy: 0.9953\n",
      "Epoch 13/50\n",
      "1664/1690 [============================>.] - ETA: 6s - loss: 0.0900 - accuracy: 0.9663 \n",
      "Epoch 00013: val_loss did not improve from 0.01849\n",
      "1690/1690 [==============================] - 451s 267ms/sample - loss: 0.0909 - accuracy: 0.9657 - val_loss: 0.0356 - val_accuracy: 0.9858\n",
      "Epoch 14/50\n",
      "1664/1690 [============================>.] - ETA: 6s - loss: 0.0591 - accuracy: 0.9844 \n",
      "Epoch 00014: val_loss did not improve from 0.01849\n",
      "1690/1690 [==============================] - 463s 274ms/sample - loss: 0.0583 - accuracy: 0.9846 - val_loss: 0.0306 - val_accuracy: 0.9929\n",
      "Epoch 15/50\n",
      "1664/1690 [============================>.] - ETA: 6s - loss: 0.0275 - accuracy: 0.9886 \n",
      "Epoch 00015: val_loss did not improve from 0.01849\n",
      "1690/1690 [==============================] - 457s 270ms/sample - loss: 0.0273 - accuracy: 0.9888 - val_loss: 0.0186 - val_accuracy: 0.9953\n",
      "Epoch 16/50\n",
      "1664/1690 [============================>.] - ETA: 6s - loss: 0.0138 - accuracy: 0.9958 \n",
      "Epoch 00016: val_loss did not improve from 0.01849\n",
      "1690/1690 [==============================] - 466s 276ms/sample - loss: 0.0142 - accuracy: 0.9959 - val_loss: 0.0287 - val_accuracy: 0.9953\n",
      "Epoch 17/50\n",
      "1664/1690 [============================>.] - ETA: 6s - loss: 0.0162 - accuracy: 0.9952 \n",
      "Epoch 00017: val_loss did not improve from 0.01849\n",
      "1690/1690 [==============================] - 453s 268ms/sample - loss: 0.0160 - accuracy: 0.9953 - val_loss: 0.0247 - val_accuracy: 0.9953\n",
      "Epoch 18/50\n",
      "1664/1690 [============================>.] - ETA: 7s - loss: 0.0126 - accuracy: 0.9964 \n",
      "Epoch 00018: val_loss did not improve from 0.01849\n",
      "1690/1690 [==============================] - 470s 278ms/sample - loss: 0.0129 - accuracy: 0.9959 - val_loss: 0.0312 - val_accuracy: 0.9953\n",
      "Epoch 19/50\n",
      "1664/1690 [============================>.] - ETA: 6s - loss: 0.0101 - accuracy: 0.9964 \n",
      "Epoch 00019: val_loss did not improve from 0.01849\n",
      "1690/1690 [==============================] - 451s 267ms/sample - loss: 0.0099 - accuracy: 0.9964 - val_loss: 0.0388 - val_accuracy: 0.9953\n",
      "Epoch 20/50\n",
      "1664/1690 [============================>.] - ETA: 6s - loss: 0.0142 - accuracy: 0.9934 \n",
      "Epoch 00020: val_loss did not improve from 0.01849\n",
      "1690/1690 [==============================] - 449s 266ms/sample - loss: 0.0140 - accuracy: 0.9935 - val_loss: 0.0249 - val_accuracy: 0.9953\n",
      "Epoch 21/50\n",
      "1664/1690 [============================>.] - ETA: 6s - loss: 0.0231 - accuracy: 0.9910 \n",
      "Epoch 00021: val_loss did not improve from 0.01849\n",
      "1690/1690 [==============================] - 459s 271ms/sample - loss: 0.0232 - accuracy: 0.9911 - val_loss: 0.0498 - val_accuracy: 0.9858\n",
      "Epoch 22/50\n",
      "1664/1690 [============================>.] - ETA: 6s - loss: 0.0229 - accuracy: 0.9952 \n",
      "Epoch 00022: val_loss did not improve from 0.01849\n",
      "1690/1690 [==============================] - 455s 269ms/sample - loss: 0.0226 - accuracy: 0.9953 - val_loss: 0.0188 - val_accuracy: 0.9953\n",
      "Epoch 23/50\n",
      "1664/1690 [============================>.] - ETA: 6s - loss: 0.0098 - accuracy: 0.9970 \n",
      "Epoch 00023: val_loss did not improve from 0.01849\n",
      "1690/1690 [==============================] - 467s 276ms/sample - loss: 0.0097 - accuracy: 0.9970 - val_loss: 0.0269 - val_accuracy: 0.9953\n",
      "Epoch 24/50\n",
      "1664/1690 [============================>.] - ETA: 6s - loss: 0.0079 - accuracy: 0.9958 \n",
      "Epoch 00024: val_loss did not improve from 0.01849\n",
      "1690/1690 [==============================] - 447s 264ms/sample - loss: 0.0078 - accuracy: 0.9959 - val_loss: 0.0269 - val_accuracy: 0.9953\n",
      "Epoch 25/50\n",
      "1664/1690 [============================>.] - ETA: 7s - loss: 0.0068 - accuracy: 0.9970 \n",
      "Epoch 00025: val_loss did not improve from 0.01849\n",
      "1690/1690 [==============================] - 495s 293ms/sample - loss: 0.0067 - accuracy: 0.9970 - val_loss: 0.0319 - val_accuracy: 0.9953\n",
      "Epoch 26/50\n",
      "1664/1690 [============================>.] - ETA: 9s - loss: 0.0059 - accuracy: 0.9988 \n",
      "Epoch 00026: val_loss did not improve from 0.01849\n",
      "1690/1690 [==============================] - 612s 362ms/sample - loss: 0.0058 - accuracy: 0.9988 - val_loss: 0.0344 - val_accuracy: 0.9953\n",
      "Epoch 27/50\n",
      "1664/1690 [============================>.] - ETA: 8s - loss: 0.0073 - accuracy: 0.9982 \n",
      "Epoch 00027: val_loss did not improve from 0.01849\n",
      "1690/1690 [==============================] - 541s 320ms/sample - loss: 0.0073 - accuracy: 0.9982 - val_loss: 0.0502 - val_accuracy: 0.9929\n"
     ]
    },
    {
     "name": "stdout",
     "output_type": "stream",
     "text": [
      "Epoch 28/50\n",
      "1664/1690 [============================>.] - ETA: 7s - loss: 0.0074 - accuracy: 0.9988 \n",
      "Epoch 00028: val_loss did not improve from 0.01849\n",
      "1690/1690 [==============================] - 482s 285ms/sample - loss: 0.0073 - accuracy: 0.9988 - val_loss: 0.0628 - val_accuracy: 0.9905\n",
      "Epoch 29/50\n",
      "1664/1690 [============================>.] - ETA: 6s - loss: 0.0095 - accuracy: 0.9952 \n",
      "Epoch 00029: val_loss did not improve from 0.01849\n",
      "1690/1690 [==============================] - 451s 267ms/sample - loss: 0.0093 - accuracy: 0.9953 - val_loss: 0.1900 - val_accuracy: 0.9598\n",
      "Epoch 30/50\n",
      "1664/1690 [============================>.] - ETA: 6s - loss: 0.1600 - accuracy: 0.9531 \n",
      "Epoch 00030: val_loss did not improve from 0.01849\n",
      "1690/1690 [==============================] - 452s 267ms/sample - loss: 0.1580 - accuracy: 0.9538 - val_loss: 0.1504 - val_accuracy: 0.9504\n",
      "Epoch 31/50\n",
      "1664/1690 [============================>.] - ETA: 6s - loss: 0.0773 - accuracy: 0.9730 \n",
      "Epoch 00031: val_loss did not improve from 0.01849\n",
      "1690/1690 [==============================] - 442s 262ms/sample - loss: 0.0763 - accuracy: 0.9734 - val_loss: 0.0315 - val_accuracy: 0.9905\n",
      "Epoch 32/50\n",
      "1664/1690 [============================>.] - ETA: 6s - loss: 0.0295 - accuracy: 0.9916 \n",
      "Epoch 00032: val_loss did not improve from 0.01849\n",
      "1690/1690 [==============================] - 432s 256ms/sample - loss: 0.0299 - accuracy: 0.9911 - val_loss: 0.0191 - val_accuracy: 0.9929\n",
      "Epoch 33/50\n",
      "1664/1690 [============================>.] - ETA: 6s - loss: 0.0803 - accuracy: 0.9712 \n",
      "Epoch 00033: val_loss did not improve from 0.01849\n",
      "1690/1690 [==============================] - 446s 264ms/sample - loss: 0.0796 - accuracy: 0.9716 - val_loss: 0.0832 - val_accuracy: 0.9811\n",
      "Epoch 34/50\n",
      "1664/1690 [============================>.] - ETA: 6s - loss: 0.0347 - accuracy: 0.9904 \n",
      "Epoch 00034: val_loss did not improve from 0.01849\n",
      "1690/1690 [==============================] - 443s 262ms/sample - loss: 0.0343 - accuracy: 0.9905 - val_loss: 0.0230 - val_accuracy: 0.9953\n",
      "Epoch 35/50\n",
      "1664/1690 [============================>.] - ETA: 6s - loss: 0.0168 - accuracy: 0.9952 \n",
      "Epoch 00035: val_loss improved from 0.01849 to 0.01753, saving model to C:/Users/Administrator/Desktop/mango1_CNNbest.hdf5\n",
      "1690/1690 [==============================] - 434s 257ms/sample - loss: 0.0165 - accuracy: 0.9953 - val_loss: 0.0175 - val_accuracy: 0.9953\n",
      "Epoch 36/50\n",
      "1664/1690 [============================>.] - ETA: 6s - loss: 0.0079 - accuracy: 0.9976 \n",
      "Epoch 00036: val_loss did not improve from 0.01753\n",
      "1690/1690 [==============================] - 434s 257ms/sample - loss: 0.0078 - accuracy: 0.9976 - val_loss: 0.0264 - val_accuracy: 0.9953\n",
      "Epoch 37/50\n",
      "1664/1690 [============================>.] - ETA: 6s - loss: 0.0056 - accuracy: 0.9982 \n",
      "Epoch 00037: val_loss improved from 0.01753 to 0.01727, saving model to C:/Users/Administrator/Desktop/mango1_CNNbest.hdf5\n",
      "1690/1690 [==============================] - 439s 260ms/sample - loss: 0.0058 - accuracy: 0.9982 - val_loss: 0.0173 - val_accuracy: 0.9953\n",
      "Epoch 38/50\n",
      "1664/1690 [============================>.] - ETA: 6s - loss: 0.0036 - accuracy: 0.9994 \n",
      "Epoch 00038: val_loss did not improve from 0.01727\n",
      "1690/1690 [==============================] - 442s 261ms/sample - loss: 0.0036 - accuracy: 0.9994 - val_loss: 0.0265 - val_accuracy: 0.9953\n",
      "Epoch 39/50\n",
      "1664/1690 [============================>.] - ETA: 6s - loss: 0.0030 - accuracy: 0.9994 \n",
      "Epoch 00039: val_loss did not improve from 0.01727\n",
      "1690/1690 [==============================] - 441s 261ms/sample - loss: 0.0029 - accuracy: 0.9994 - val_loss: 0.0297 - val_accuracy: 0.9953\n",
      "Epoch 40/50\n",
      "1664/1690 [============================>.] - ETA: 6s - loss: 0.0028 - accuracy: 0.9994 \n",
      "Epoch 00040: val_loss did not improve from 0.01727\n",
      "1690/1690 [==============================] - 442s 262ms/sample - loss: 0.0028 - accuracy: 0.9994 - val_loss: 0.0261 - val_accuracy: 0.9953\n",
      "Epoch 41/50\n",
      "1664/1690 [============================>.] - ETA: 6s - loss: 0.0035 - accuracy: 0.9994 \n",
      "Epoch 00041: val_loss did not improve from 0.01727\n",
      "1690/1690 [==============================] - 446s 264ms/sample - loss: 0.0035 - accuracy: 0.9994 - val_loss: 0.0195 - val_accuracy: 0.9953\n",
      "Epoch 42/50\n",
      "1664/1690 [============================>.] - ETA: 6s - loss: 0.0035 - accuracy: 0.9982 \n",
      "Epoch 00042: val_loss did not improve from 0.01727\n",
      "1690/1690 [==============================] - 440s 261ms/sample - loss: 0.0035 - accuracy: 0.9982 - val_loss: 0.0253 - val_accuracy: 0.9953\n",
      "Epoch 43/50\n",
      "1664/1690 [============================>.] - ETA: 6s - loss: 0.0033 - accuracy: 0.9988 \n",
      "Epoch 00043: val_loss did not improve from 0.01727\n",
      "1690/1690 [==============================] - 433s 256ms/sample - loss: 0.0032 - accuracy: 0.9988 - val_loss: 0.0284 - val_accuracy: 0.9953\n",
      "Epoch 44/50\n",
      "1664/1690 [============================>.] - ETA: 6s - loss: 0.0039 - accuracy: 0.9988 \n",
      "Epoch 00044: val_loss did not improve from 0.01727\n",
      "1690/1690 [==============================] - 412s 244ms/sample - loss: 0.0038 - accuracy: 0.9988 - val_loss: 0.0216 - val_accuracy: 0.9953\n",
      "Epoch 45/50\n",
      "1664/1690 [============================>.] - ETA: 6s - loss: 0.0022 - accuracy: 1.0000 \n",
      "Epoch 00045: val_loss did not improve from 0.01727\n",
      "1690/1690 [==============================] - 418s 247ms/sample - loss: 0.0021 - accuracy: 1.0000 - val_loss: 0.0258 - val_accuracy: 0.9953\n",
      "Epoch 46/50\n",
      "1664/1690 [============================>.] - ETA: 6s - loss: 0.0010 - accuracy: 1.0000 \n",
      "Epoch 00046: val_loss did not improve from 0.01727\n",
      "1690/1690 [==============================] - 428s 253ms/sample - loss: 0.0010 - accuracy: 1.0000 - val_loss: 0.0295 - val_accuracy: 0.9953\n",
      "Epoch 47/50\n",
      "1664/1690 [============================>.] - ETA: 6s - loss: 0.0026 - accuracy: 0.9988 \n",
      "Epoch 00047: val_loss did not improve from 0.01727\n",
      "1690/1690 [==============================] - 435s 258ms/sample - loss: 0.0025 - accuracy: 0.9988 - val_loss: 0.0328 - val_accuracy: 0.9953\n",
      "Epoch 48/50\n",
      "1664/1690 [============================>.] - ETA: 6s - loss: 0.0012 - accuracy: 0.9994 \n",
      "Epoch 00048: val_loss did not improve from 0.01727\n",
      "1690/1690 [==============================] - 433s 257ms/sample - loss: 0.0013 - accuracy: 0.9994 - val_loss: 0.0356 - val_accuracy: 0.9953\n",
      "Epoch 49/50\n",
      "1664/1690 [============================>.] - ETA: 5s - loss: 0.0024 - accuracy: 0.9988     \n",
      "Epoch 00049: val_loss did not improve from 0.01727\n",
      "1690/1690 [==============================] - 399s 236ms/sample - loss: 0.0024 - accuracy: 0.9988 - val_loss: 0.0399 - val_accuracy: 0.9953\n",
      "Epoch 50/50\n",
      "1664/1690 [============================>.] - ETA: 6s - loss: 0.0025 - accuracy: 0.9994 \n",
      "Epoch 00050: val_loss did not improve from 0.01727\n",
      "1690/1690 [==============================] - 417s 247ms/sample - loss: 0.0025 - accuracy: 0.9994 - val_loss: 0.0411 - val_accuracy: 0.9953\n",
      "423/423 [==============================] - 14s 34ms/sample - loss: 0.0247 - accuracy: 0.9953\n"
     ]
    },
    {
     "data": {
      "text/plain": [
       "[0.024672978914323004, 0.99527186]"
      ]
     },
     "execution_count": 3,
     "metadata": {},
     "output_type": "execute_result"
    }
   ],
   "source": [
    "opt = keras.optimizers.RMSprop(lr = 0.0001,decay = 1e-6)\n",
    "#使用均方根反向传播(RMSprop)训练模型\n",
    "model.compile(loss = 'categorical_crossentropy', optimizer = 'adam', metrics = ['accuracy'])\n",
    "\n",
    "from tensorflow.keras.callbacks import ModelCheckpoint\n",
    "#要求存储最佳模型\n",
    "checkpointer = ModelCheckpoint(filepath = r'C:/Users/Administrator/Desktop/mango1_CNNbest.hdf5',\n",
    "                               monitor = 'val_loss',\n",
    "                               mode = 'min',\n",
    "                               save_best_only = True, \n",
    "                               verbose = 1)\n",
    "callback_list = [checkpointer]\n",
    "hist = model.fit(x_train, y_train,batch_size = 128,\n",
    "          epochs = 50,validation_data = (x_test, y_test),\n",
    "          shuffle = True,callbacks = callback_list)\n",
    "\n",
    "model.save(r'C:/Users/Administrator/Desktop/mango1.hdf5') #保存最终模型用于对比\n",
    "model.load_weights(r'C:/Users/Administrator/Desktop/mango_CNNbest.hdf5')\n",
    "model.evaluate(x_test, y_test)"
   ]
  },
  {
   "cell_type": "code",
   "execution_count": 73,
   "metadata": {},
   "outputs": [
    {
     "data": {
      "text/plain": [
       "Text(0, 0.5, 'loss')"
      ]
     },
     "execution_count": 73,
     "metadata": {},
     "output_type": "execute_result"
    },
    {
     "data": {
      "image/png": "[encoded data removed]",
      "text/plain": [
       "<Figure size 432x288 with 2 Axes>"
      ]
     },
     "metadata": {
      "needs_background": "light"
     },
     "output_type": "display_data"
    }
   ],
   "source": [
    "loss = hist.history(['loss'])\n",
    "acc = hist.history(['accuracy'])\n",
    "plt.plot(acc,label=\"acc\")\n",
    "plt.ylabel('acc')\n",
    "plt.legend(loc = 10)\n",
    "ax2 = plt.gca().twinx()\n",
    "plt.plot(loss,color='red',label='loss')\n",
    "plt.legend(loc = 5)\n",
    "plt.ylabel('loss')"
   ]
  },
  {
   "cell_type": "code",
   "execution_count": 11,
   "metadata": {},
   "outputs": [],
   "source": [
    "from tensorflow.keras.models import load_model\n",
    "\n",
    "path = r'C:/Users/Administrator/Desktop/mango1_CNNbest.hdf5'\n",
    "model = load_model(path)\n"
   ]
  },
  {
   "cell_type": "code",
   "execution_count": 12,
   "metadata": {
    "scrolled": true
   },
   "outputs": [
    {
     "name": "stdout",
     "output_type": "stream",
     "text": [
      "423/423 [==============================] - 15s 36ms/sample - loss: 0.0037 - accuracy: 0.9976\n"
     ]
    },
    {
     "data": {
      "text/plain": [
       "[0.003674753716821357, 0.99763596]"
      ]
     },
     "execution_count": 12,
     "metadata": {},
     "output_type": "execute_result"
    }
   ],
   "source": [
    "model.load_weights(path)"
   ]
  },
  {
   "cell_type": "code",
   "execution_count": 45,
   "metadata": {},
   "outputs": [
    {
     "name": "stdout",
     "output_type": "stream",
     "text": [
      "423/423 [==============================] - 16s 37ms/sample - loss: 0.0037 - accuracy: 0.9976\n",
      "模型正确率为%2s 0.99763596\n"
     ]
    }
   ],
   "source": [
    "los,acc = model.evaluate(x_test, y_test)"
   ]
  },
  {
   "cell_type": "code",
   "execution_count": 49,
   "metadata": {},
   "outputs": [
    {
     "name": "stdout",
     "output_type": "stream",
     "text": [
      "模型正确率为0.9976\n"
     ]
    }
   ],
   "source": [
    "\n",
    "print('模型正确率为%0.4f'%acc)"
   ]
  },
  {
   "cell_type": "code",
   "execution_count": 20,
   "metadata": {
    "scrolled": true
   },
   "outputs": [],
   "source": [
    "import numpy as np\n",
    "y = np.argmax(y_test,axis = 1)\n",
    "all_groundtruth_list = y"
   ]
  },
  {
   "cell_type": "code",
   "execution_count": 22,
   "metadata": {},
   "outputs": [],
   "source": [
    "p = model.predict(x_test)\n",
    "all_predict_list= np.argmax(p,axis=1)"
   ]
  },
  {
   "cell_type": "code",
   "execution_count": 23,
   "metadata": {},
   "outputs": [],
   "source": [
    "all_label_list = [0,1,2]"
   ]
  },
  {
   "cell_type": "code",
   "execution_count": 28,
   "metadata": {},
   "outputs": [
    {
     "name": "stdout",
     "output_type": "stream",
     "text": [
      "              precision    recall  f1-score   support\n",
      "\n",
      "           0       1.00      1.00      1.00       117\n",
      "           1       0.99      1.00      1.00       142\n",
      "           2       1.00      0.99      1.00       164\n",
      "\n",
      "    accuracy                           1.00       423\n",
      "   macro avg       1.00      1.00      1.00       423\n",
      "weighted avg       1.00      1.00      1.00       423\n",
      "\n"
     ]
    }
   ],
   "source": [
    "from sklearn.metrics import classification_report,confusion_matrix\n",
    "\n",
    "# 准确率 召回率 F1 每个类的数据量\n",
    "precision_recall_report = classification_report(\n",
    "              y_true=all_groundtruth_list,\n",
    "              y_pred=all_predict_list,\n",
    "              #labels=list(range(0,len(all_label_list))),\n",
    "              #labels=[0,1,2],\n",
    "              #target_names=[0,1,2]\n",
    ")\n",
    "print(precision_recall_report)\n"
   ]
  },
  {
   "cell_type": "code",
   "execution_count": 30,
   "metadata": {},
   "outputs": [
    {
     "name": "stdout",
     "output_type": "stream",
     "text": [
      "[[117   0   0]\n",
      " [  0 142   0]\n",
      " [  0   1 163]]\n"
     ]
    }
   ],
   "source": [
    "# 混淆矩阵\n",
    "from sklearn.metrics import confusion_matrix\n",
    "\n",
    "matrix = confusion_matrix(\n",
    "         y_true=all_groundtruth_list,\n",
    "         y_pred=all_predict_list,\n",
    "         labels=list(range(0,3)))\n",
    "print(matrix)"
   ]
  },
  {
   "cell_type": "code",
   "execution_count": 43,
   "metadata": {},
   "outputs": [
    {
     "data": {
      "image/png": "[encoded data removed]",
      "text/plain": [
       "<Figure size 432x288 with 3 Axes>"
      ]
     },
     "metadata": {},
     "output_type": "display_data"
    }
   ],
   "source": [
    "import matplotlib.pyplot as plt\n",
    "\n",
    "path1 = r'C:\\Users\\Administrator\\Desktop\\4.jpg'\n",
    "path2 = r'C:\\Users\\Administrator\\Desktop\\1.jpg'\n",
    "#path3 = r'C:\\Users\\Administrator\\Desktop\\2.jpg'\n",
    "path4 = r'C:\\Users\\Administrator\\Desktop\\7.jpg'\n",
    "image1 = cv2.imread(path1)\n",
    "image2 = cv2.imread(path2)\n",
    "image3 = cv2.imread(path4)\n",
    "#image4 = cv2.imread(path4)\n",
    "image=[image1,image2,image3]\n",
    "\n",
    "for j in range(3):\n",
    "    plt.subplot(1,3,j+1)\n",
    "    plt.imshow(image[j][...,::-1]/255)\n",
    "    plt.xticks([])\n",
    "    plt.yticks([])"
   ]
  },
  {
   "cell_type": "code",
   "execution_count": 44,
   "metadata": {},
   "outputs": [
    {
     "data": {
      "text/plain": [
       "array([1, 0, 2], dtype=int64)"
      ]
     },
     "execution_count": 44,
     "metadata": {},
     "output_type": "execute_result"
    }
   ],
   "source": [
    "im = np.asarray(image,dtype=np.float32)\n",
    "pr = model.predict(im)\n",
    "np.argmax(pr,axis = 1)"
   ]
  },
  {
   "cell_type": "code",
   "execution_count": null,
   "metadata": {},
   "outputs": [],
   "source": []
  }
 ],
 "metadata": {
  "kernelspec": {
   "display_name": "Python 3",
   "language": "python",
   "name": "python3"
  },
  "language_info": {
   "codemirror_mode": {
    "name": "ipython",
    "version": 3
   },
   "file_extension": ".py",
   "mimetype": "text/x-python",
   "name": "python",
   "nbconvert_exporter": "python",
   "pygments_lexer": "ipython3",
   "version": "3.7.4"
  }
 },
 "nbformat": 4,
 "nbformat_minor": 2
}
